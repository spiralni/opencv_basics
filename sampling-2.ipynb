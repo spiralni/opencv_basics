{
 "cells": [
  {
   "cell_type": "code",
   "execution_count": 1,
   "id": "63527f69",
   "metadata": {},
   "outputs": [],
   "source": [
    "import numpy as np\n",
    "import cv2"
   ]
  },
  {
   "cell_type": "code",
   "execution_count": 2,
   "id": "d66b213a",
   "metadata": {},
   "outputs": [],
   "source": [
    "bw = cv2.imread('images/sd.jpg', 0) # 0 for black and white\n",
    "height, width = bw.shape[0:2]"
   ]
  },
  {
   "cell_type": "code",
   "execution_count": 3,
   "id": "6cb3f011",
   "metadata": {},
   "outputs": [],
   "source": [
    "# using the threshold method\n",
    "thresh = 85\n",
    "ret, thresh = cv2.threshold(bw, thresh, 255, cv2.THRESH_BINARY)\n",
    "cv2.imshow(\"basic binary\", thresh)"
   ]
  },
  {
   "cell_type": "code",
   "execution_count": 4,
   "id": "dc4d2687",
   "metadata": {},
   "outputs": [],
   "source": [
    "# adaptive threshold\n",
    "thres_adapt = cv2.adaptiveThreshold(bw, 255, cv2.ADAPTIVE_THRESH_GAUSSIAN_C, cv2.THRESH_BINARY, 11, 2)\n",
    "cv2.imshow(\"adaptative binary\", thres_adapt)"
   ]
  },
  {
   "cell_type": "code",
   "execution_count": 5,
   "id": "c31c6771",
   "metadata": {},
   "outputs": [],
   "source": [
    "# clean up\n",
    "cv2.waitKey(0)\n",
    "cv2.destroyAllWindows()"
   ]
  }
 ],
 "metadata": {
  "kernelspec": {
   "display_name": "Python 3 (ipykernel)",
   "language": "python",
   "name": "python3"
  },
  "language_info": {
   "codemirror_mode": {
    "name": "ipython",
    "version": 3
   },
   "file_extension": ".py",
   "mimetype": "text/x-python",
   "name": "python",
   "nbconvert_exporter": "python",
   "pygments_lexer": "ipython3",
   "version": "3.8.6"
  }
 },
 "nbformat": 4,
 "nbformat_minor": 5
}
