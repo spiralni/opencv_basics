{
 "cells": [
  {
   "cell_type": "code",
   "execution_count": 2,
   "id": "4457c73a",
   "metadata": {},
   "outputs": [],
   "source": [
    "import numpy as np\n",
    "import cv2"
   ]
  },
  {
   "cell_type": "code",
   "execution_count": 3,
   "id": "e8d9896e",
   "metadata": {},
   "outputs": [],
   "source": [
    "color = cv2.imread(\"images/bf.jpg\", 1)"
   ]
  },
  {
   "cell_type": "code",
   "execution_count": 7,
   "id": "3b4f0633",
   "metadata": {},
   "outputs": [
    {
     "data": {
      "text/plain": [
       "True"
      ]
     },
     "execution_count": 7,
     "metadata": {},
     "output_type": "execute_result"
    }
   ],
   "source": [
    "# to gray\n",
    "gray = cv2.cvtColor(color, cv2.COLOR_RGB2GRAY)\n",
    "cv2.imwrite(\"images/bf_gray.jpg\", gray)"
   ]
  },
  {
   "cell_type": "code",
   "execution_count": 8,
   "id": "120e0cfd",
   "metadata": {},
   "outputs": [],
   "source": [
    "blue = color[:,:,0]\n",
    "green = color[:,:,1]\n",
    "red = color[:,:,2]"
   ]
  },
  {
   "cell_type": "code",
   "execution_count": 9,
   "id": "569670b9",
   "metadata": {},
   "outputs": [
    {
     "data": {
      "text/plain": [
       "array([[84, 84, 84, ..., 84, 84, 84],\n",
       "       [84, 84, 84, ..., 84, 84, 84],\n",
       "       [84, 84, 84, ..., 84, 84, 84],\n",
       "       ...,\n",
       "       [84, 84, 84, ..., 84, 84, 84],\n",
       "       [84, 84, 84, ..., 84, 84, 84],\n",
       "       [84, 84, 84, ..., 84, 84, 84]], dtype=uint8)"
      ]
     },
     "execution_count": 9,
     "metadata": {},
     "output_type": "execute_result"
    }
   ],
   "source": [
    "blue"
   ]
  },
  {
   "cell_type": "code",
   "execution_count": null,
   "id": "6e07e16c",
   "metadata": {},
   "outputs": [],
   "source": []
  }
 ],
 "metadata": {
  "kernelspec": {
   "display_name": "Python 3 (ipykernel)",
   "language": "python",
   "name": "python3"
  },
  "language_info": {
   "codemirror_mode": {
    "name": "ipython",
    "version": 3
   },
   "file_extension": ".py",
   "mimetype": "text/x-python",
   "name": "python",
   "nbconvert_exporter": "python",
   "pygments_lexer": "ipython3",
   "version": "3.8.6"
  }
 },
 "nbformat": 4,
 "nbformat_minor": 5
}
