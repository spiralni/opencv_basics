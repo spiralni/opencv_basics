{
 "cells": [
  {
   "cell_type": "code",
   "execution_count": 1,
   "id": "1cf0aa5d",
   "metadata": {},
   "outputs": [],
   "source": [
    "import numpy as np\n",
    "import cv2"
   ]
  },
  {
   "cell_type": "code",
   "execution_count": 2,
   "id": "272e5b9f",
   "metadata": {},
   "outputs": [],
   "source": [
    "# white canvas\n",
    "canvas = np.ones([600,600,3], 'uint8')*255\n",
    "\n",
    "radius = 3\n",
    "color = (0,255,0) # green color\n",
    "\n",
    "pressed = False # to know if the user click the mouse\n"
   ]
  },
  {
   "cell_type": "code",
   "execution_count": 3,
   "id": "e86ea848",
   "metadata": {},
   "outputs": [],
   "source": [
    "# click callback\n",
    "def click(event, x, y, flags, params):\n",
    "    global canvas, pressed\n",
    "    \n",
    "    # ON CLICK\n",
    "    if event == cv2.EVENT_LBUTTONDOWN:\n",
    "        # draw a circle over the canvas, the last param (-1)\n",
    "        # is to fill the cirle\n",
    "        pressed = True\n",
    "        cv2.circle(canvas, (x,y), radius, color, -1)\n",
    "    \n",
    "    # ON MOUSE MOVE\n",
    "    elif event == cv2.EVENT_MOUSEMOVE and pressed == True:\n",
    "        cv2.circle(canvas, (x,y), radius, color, -1)\n",
    "        \n",
    "    # ON MOUSE UP\n",
    "    elif event == cv2.EVENT_LBUTTONUP:\n",
    "        pressed = False\n",
    "\n",
    "# attach event to a window\n",
    "cv2.namedWindow(\"canvas\")\n",
    "cv2.setMouseCallback(\"canvas\", click)"
   ]
  },
  {
   "cell_type": "code",
   "execution_count": 4,
   "id": "b7d861c9",
   "metadata": {},
   "outputs": [],
   "source": [
    "# draw\n",
    "while True:\n",
    "    cv2.imshow(\"canvas\", canvas)\n",
    "    \n",
    "    # read key from std input\n",
    "    ch = cv2.waitKey(1)\n",
    "    \n",
    "    if ch & 0xFF == ord('q'):\n",
    "        break\n",
    "    elif ch & 0xFF == ord('r'):\n",
    "        color = (0,0,255)\n",
    "    elif ch & 0xFF == ord('g'):\n",
    "        color = (0,255,0)"
   ]
  },
  {
   "cell_type": "code",
   "execution_count": 5,
   "id": "04a93241",
   "metadata": {},
   "outputs": [],
   "source": [
    "# clean up\n",
    "cv2.destroyAllWindows()"
   ]
  },
  {
   "cell_type": "code",
   "execution_count": null,
   "id": "448e5895",
   "metadata": {},
   "outputs": [],
   "source": []
  }
 ],
 "metadata": {
  "kernelspec": {
   "display_name": "Python 3 (ipykernel)",
   "language": "python",
   "name": "python3"
  },
  "language_info": {
   "codemirror_mode": {
    "name": "ipython",
    "version": 3
   },
   "file_extension": ".py",
   "mimetype": "text/x-python",
   "name": "python",
   "nbconvert_exporter": "python",
   "pygments_lexer": "ipython3",
   "version": "3.8.6"
  }
 },
 "nbformat": 4,
 "nbformat_minor": 5
}
