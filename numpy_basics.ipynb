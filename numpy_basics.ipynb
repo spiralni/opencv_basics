{
 "cells": [
  {
   "cell_type": "code",
   "execution_count": 1,
   "id": "3a79edb8",
   "metadata": {},
   "outputs": [],
   "source": [
    "import numpy as np\n",
    "import cv2"
   ]
  },
  {
   "cell_type": "code",
   "execution_count": 2,
   "id": "08d8d3be",
   "metadata": {},
   "outputs": [],
   "source": [
    "black = np.zeros([150, 200, 1], 'uint8')"
   ]
  },
  {
   "cell_type": "code",
   "execution_count": 3,
   "id": "5f370b43",
   "metadata": {},
   "outputs": [],
   "source": [
    "cv2.imshow(\"Image - Black\", black)"
   ]
  },
  {
   "cell_type": "code",
   "execution_count": 4,
   "id": "a5816476",
   "metadata": {},
   "outputs": [],
   "source": [
    "white = np.ones([150, 200, 3], 'uint16')\n",
    "white *= 2**16-1\n",
    "cv2.imshow(\"Image - White\", white)"
   ]
  },
  {
   "cell_type": "code",
   "execution_count": 5,
   "id": "fbb45225",
   "metadata": {},
   "outputs": [],
   "source": [
    "color = np.ones([150, 200, 3], 'uint16')\n",
    "color[:,:] = (255, 0, 0)\n",
    "cv2.imshow(\"Image - Blue\", color)\n",
    "\n",
    "cv2.waitKey(0)\n",
    "cv2.destroyAllWindows()"
   ]
  },
  {
   "cell_type": "code",
   "execution_count": null,
   "id": "d5af999f",
   "metadata": {},
   "outputs": [],
   "source": []
  }
 ],
 "metadata": {
  "kernelspec": {
   "display_name": "Python 3 (ipykernel)",
   "language": "python",
   "name": "python3"
  },
  "language_info": {
   "codemirror_mode": {
    "name": "ipython",
    "version": 3
   },
   "file_extension": ".py",
   "mimetype": "text/x-python",
   "name": "python",
   "nbconvert_exporter": "python",
   "pygments_lexer": "ipython3",
   "version": "3.8.6"
  }
 },
 "nbformat": 4,
 "nbformat_minor": 5
}
