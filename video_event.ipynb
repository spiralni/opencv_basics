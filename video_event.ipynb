{
 "cells": [
  {
   "cell_type": "code",
   "execution_count": 1,
   "id": "0c8b28f1",
   "metadata": {},
   "outputs": [],
   "source": [
    "import numpy as np\n",
    "import cv2"
   ]
  },
  {
   "cell_type": "code",
   "execution_count": 2,
   "id": "b81fe120",
   "metadata": {},
   "outputs": [],
   "source": [
    "# Circle params\n",
    "color = (0, 255, 0) # red, green, blue\n",
    "\n",
    "line_width = 3\n",
    "radius = 50\n",
    "center = (0,0)"
   ]
  },
  {
   "cell_type": "code",
   "execution_count": 3,
   "id": "4b59f307",
   "metadata": {},
   "outputs": [],
   "source": [
    "# to handle click event over the video\n",
    "def click(event, x, y, flags, param):\n",
    "    global center, pressed\n",
    "    if event == cv2.EVENT_LBUTTONDOWN:\n",
    "        center = (x,y)\n",
    "        \n",
    "cv2.namedWindow(\"Frame\")\n",
    "cv2.setMouseCallback(\"Frame\", click)"
   ]
  },
  {
   "cell_type": "code",
   "execution_count": 4,
   "id": "37f79157",
   "metadata": {},
   "outputs": [],
   "source": [
    "cap = cv2.VideoCapture(0)\n",
    "\n",
    "while True:\n",
    "    ret, frame = cap.read()\n",
    "    \n",
    "    #display the image\n",
    "    frame = cv2.resize(frame, (0,0), fx=0.5, fy=0.5)\n",
    "    cv2.circle(frame, center, radius, color) # draw a circle over the video\n",
    "    cv2.imshow(\"Frame\", frame)\n",
    "    \n",
    "    # read a key from input (keyboard)\n",
    "    ch = cv2.waitKey(1) # 1 param = wait every 1 millisecond\n",
    "    \n",
    "    # exit if key 'q' was pressed\n",
    "    if ch & 0xFF == ord('q'):\n",
    "        break\n",
    "        \n",
    "cap.release()\n",
    "cv2.destroyAllWindows()"
   ]
  },
  {
   "cell_type": "code",
   "execution_count": null,
   "id": "5d92f605",
   "metadata": {},
   "outputs": [],
   "source": []
  }
 ],
 "metadata": {
  "kernelspec": {
   "display_name": "Python 3 (ipykernel)",
   "language": "python",
   "name": "python3"
  },
  "language_info": {
   "codemirror_mode": {
    "name": "ipython",
    "version": 3
   },
   "file_extension": ".py",
   "mimetype": "text/x-python",
   "name": "python",
   "nbconvert_exporter": "python",
   "pygments_lexer": "ipython3",
   "version": "3.8.6"
  }
 },
 "nbformat": 4,
 "nbformat_minor": 5
}
