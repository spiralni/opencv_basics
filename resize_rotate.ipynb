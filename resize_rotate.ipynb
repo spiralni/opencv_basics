{
 "cells": [
  {
   "cell_type": "code",
   "execution_count": 1,
   "id": "93325c04",
   "metadata": {},
   "outputs": [],
   "source": [
    "import cv2\n",
    "import numpy as np"
   ]
  },
  {
   "cell_type": "code",
   "execution_count": 2,
   "id": "8b486aec",
   "metadata": {},
   "outputs": [],
   "source": [
    "img = cv2.imread(\"images/bf.jpg\")"
   ]
  },
  {
   "cell_type": "code",
   "execution_count": 3,
   "id": "044125ff",
   "metadata": {},
   "outputs": [],
   "source": [
    "# Resize"
   ]
  },
  {
   "cell_type": "code",
   "execution_count": 4,
   "id": "3be85d00",
   "metadata": {},
   "outputs": [],
   "source": [
    "img_half = cv2.resize(img, (0,0), fx=0.5, fy=0.5)\n",
    "img_stretch = cv2.resize(img, (1000,1000))\n",
    "img_stretch_nearest = cv2.resize(img, (1000,1000), interpolation=cv2.INTER_NEAREST)\n",
    "\n",
    "# ----------------------------------------\n",
    "# cv2.imshow(\"Half\", img_half)\n",
    "# cv2.imshow(\"Stretch\", img_stretch)\n",
    "# cv2.imshow(\"Nearest\", img_stretch_nearest)"
   ]
  },
  {
   "cell_type": "code",
   "execution_count": 5,
   "id": "9a1a46cc",
   "metadata": {},
   "outputs": [],
   "source": [
    "# Rotate"
   ]
  },
  {
   "cell_type": "code",
   "execution_count": 6,
   "id": "091f3444",
   "metadata": {},
   "outputs": [],
   "source": [
    "matrix = cv2.getRotationMatrix2D((0,0), -30, 1)\n",
    "rotated = cv2.warpAffine(img, matrix, (img.shape[1], img.shape[0]))\n",
    "\n",
    "# ----------------------------------------\n",
    "\n",
    "cv2.imshow(\"Rotated\", rotated)"
   ]
  },
  {
   "cell_type": "code",
   "execution_count": 7,
   "id": "38cd01cf",
   "metadata": {},
   "outputs": [],
   "source": [
    "\n",
    "cv2.waitKey(0)\n",
    "cv2.destroyAllWindows()"
   ]
  }
 ],
 "metadata": {
  "kernelspec": {
   "display_name": "Python 3 (ipykernel)",
   "language": "python",
   "name": "python3"
  },
  "language_info": {
   "codemirror_mode": {
    "name": "ipython",
    "version": 3
   },
   "file_extension": ".py",
   "mimetype": "text/x-python",
   "name": "python",
   "nbconvert_exporter": "python",
   "pygments_lexer": "ipython3",
   "version": "3.8.6"
  }
 },
 "nbformat": 4,
 "nbformat_minor": 5
}
