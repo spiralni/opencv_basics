{
 "cells": [
  {
   "cell_type": "code",
   "execution_count": 21,
   "id": "5335ccc2",
   "metadata": {},
   "outputs": [],
   "source": [
    "import numpy as np\n",
    "import cv2"
   ]
  },
  {
   "cell_type": "code",
   "execution_count": 22,
   "id": "7f83bc7d",
   "metadata": {},
   "outputs": [],
   "source": [
    "color = cv2.imread('images/g001.jpg')"
   ]
  },
  {
   "cell_type": "code",
   "execution_count": 23,
   "id": "7aa5f769",
   "metadata": {},
   "outputs": [],
   "source": [
    "height, width, channels = color.shape"
   ]
  },
  {
   "cell_type": "code",
   "execution_count": 24,
   "id": "55fba808",
   "metadata": {},
   "outputs": [
    {
     "name": "stdout",
     "output_type": "stream",
     "text": [
      "(1280, 1280, 3)\n"
     ]
    }
   ],
   "source": [
    "print(color.shape)"
   ]
  },
  {
   "cell_type": "code",
   "execution_count": 25,
   "id": "3c248afc",
   "metadata": {},
   "outputs": [],
   "source": [
    "blue, green, red = cv2.split(color) # split by channels"
   ]
  },
  {
   "cell_type": "code",
   "execution_count": 26,
   "id": "9bd8d183",
   "metadata": {},
   "outputs": [],
   "source": [
    "rgb_split = np.empty([height, width*3, 3], 'uint8')"
   ]
  },
  {
   "cell_type": "code",
   "execution_count": 27,
   "id": "9f110415",
   "metadata": {},
   "outputs": [],
   "source": [
    "rgb_split[:, 0:width] = cv2.merge([blue, blue, blue])"
   ]
  },
  {
   "cell_type": "code",
   "execution_count": 28,
   "id": "8e6b27b5",
   "metadata": {},
   "outputs": [],
   "source": [
    "rgb_split[:, width:width*2] = cv2.merge([green, green, green])"
   ]
  },
  {
   "cell_type": "code",
   "execution_count": 29,
   "id": "7b9a4ec1",
   "metadata": {},
   "outputs": [],
   "source": [
    "rgb_split[:, width*2:width*3] = cv2.merge([red, red, red])"
   ]
  },
  {
   "cell_type": "markdown",
   "id": "99f9edad",
   "metadata": {},
   "source": [
    "- HSV"
   ]
  },
  {
   "cell_type": "code",
   "execution_count": 30,
   "id": "0d27c987",
   "metadata": {},
   "outputs": [],
   "source": [
    "hsv = cv2.cvtColor(color, cv2.COLOR_BGR2HSV)"
   ]
  },
  {
   "cell_type": "code",
   "execution_count": 20,
   "id": "2c3b8fff",
   "metadata": {},
   "outputs": [],
   "source": [
    "h, s, v = cv2.split(hsv)"
   ]
  },
  {
   "cell_type": "markdown",
   "id": "77e3f6e9",
   "metadata": {},
   "source": [
    "- Display image"
   ]
  },
  {
   "cell_type": "code",
   "execution_count": null,
   "id": "ce0abb18",
   "metadata": {},
   "outputs": [],
   "source": []
  },
  {
   "cell_type": "code",
   "execution_count": 17,
   "id": "8a782439",
   "metadata": {},
   "outputs": [],
   "source": [
    "cv2.imshow(\"Channels\", rgb_split)\n",
    "cv2.moveWindow(\"Channels\", 0, height)\n",
    "cv2.waitKey(0)\n",
    "cv2.destroyAllWindows()"
   ]
  },
  {
   "cell_type": "code",
   "execution_count": null,
   "id": "bcc0f213",
   "metadata": {},
   "outputs": [],
   "source": []
  }
 ],
 "metadata": {
  "kernelspec": {
   "display_name": "Python 3 (ipykernel)",
   "language": "python",
   "name": "python3"
  },
  "language_info": {
   "codemirror_mode": {
    "name": "ipython",
    "version": 3
   },
   "file_extension": ".py",
   "mimetype": "text/x-python",
   "name": "python",
   "nbconvert_exporter": "python",
   "pygments_lexer": "ipython3",
   "version": "3.8.6"
  }
 },
 "nbformat": 4,
 "nbformat_minor": 5
}
