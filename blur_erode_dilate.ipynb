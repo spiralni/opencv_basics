{
 "cells": [
  {
   "cell_type": "code",
   "execution_count": 8,
   "id": "e18bd8f3",
   "metadata": {},
   "outputs": [],
   "source": [
    "import numpy as np\n",
    "import cv2"
   ]
  },
  {
   "cell_type": "code",
   "execution_count": 9,
   "id": "4951103c",
   "metadata": {},
   "outputs": [],
   "source": [
    "image = cv2.imread('images/sd.jpg', 1)"
   ]
  },
  {
   "cell_type": "markdown",
   "id": "c76b11fb",
   "metadata": {},
   "source": [
    "# Blur"
   ]
  },
  {
   "cell_type": "code",
   "execution_count": 10,
   "id": "25ac1afa",
   "metadata": {},
   "outputs": [],
   "source": [
    "blur = cv2.GaussianBlur(image, (5,55), 0) # blur x 5, blur y 55\n",
    "cv2.imshow(\"Blur\", blur)"
   ]
  },
  {
   "cell_type": "markdown",
   "id": "7b1b3165",
   "metadata": {},
   "source": [
    "# Dilate"
   ]
  },
  {
   "cell_type": "code",
   "execution_count": 11,
   "id": "6e948b8c",
   "metadata": {},
   "outputs": [],
   "source": [
    "kernel = np.ones((5,5), 'uint8')"
   ]
  },
  {
   "cell_type": "code",
   "execution_count": 12,
   "id": "ec2dce96",
   "metadata": {},
   "outputs": [],
   "source": [
    "# will expand the white pixels\n",
    "dilate = cv2.dilate(image, kernel, iterations=1)\n",
    "cv2.imshow(\"Dilate\", dilate)"
   ]
  },
  {
   "cell_type": "markdown",
   "id": "fe7dff28",
   "metadata": {},
   "source": [
    "# Erode"
   ]
  },
  {
   "cell_type": "code",
   "execution_count": 13,
   "id": "23160335",
   "metadata": {},
   "outputs": [],
   "source": [
    "# will expand the black pixels\n",
    "erode = cv2.erode(image, kernel, iterations=1)\n",
    "cv2.imshow(\"Erode\", erode)"
   ]
  },
  {
   "cell_type": "code",
   "execution_count": 14,
   "id": "9733a5bf",
   "metadata": {},
   "outputs": [],
   "source": [
    "cv2.waitKey(0)\n",
    "cv2.destroyAllWindows()"
   ]
  },
  {
   "cell_type": "code",
   "execution_count": null,
   "id": "4bb2d78e",
   "metadata": {},
   "outputs": [],
   "source": []
  }
 ],
 "metadata": {
  "kernelspec": {
   "display_name": "Python 3 (ipykernel)",
   "language": "python",
   "name": "python3"
  },
  "language_info": {
   "codemirror_mode": {
    "name": "ipython",
    "version": 3
   },
   "file_extension": ".py",
   "mimetype": "text/x-python",
   "name": "python",
   "nbconvert_exporter": "python",
   "pygments_lexer": "ipython3",
   "version": "3.8.6"
  }
 },
 "nbformat": 4,
 "nbformat_minor": 5
}
