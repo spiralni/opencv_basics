{
 "cells": [
  {
   "cell_type": "code",
   "execution_count": 1,
   "id": "63527f69",
   "metadata": {},
   "outputs": [],
   "source": [
    "import numpy as np\n",
    "import cv2"
   ]
  },
  {
   "cell_type": "code",
   "execution_count": 2,
   "id": "d66b213a",
   "metadata": {},
   "outputs": [],
   "source": [
    "bw = cv2.imread('images/bf.jpg', 0) # 0 for black and white\n",
    "height, width = bw.shape[0:2]"
   ]
  },
  {
   "cell_type": "code",
   "execution_count": 3,
   "id": "b807a3c6",
   "metadata": {},
   "outputs": [],
   "source": [
    "cv2.imshow(\"original\", bw)"
   ]
  },
  {
   "cell_type": "code",
   "execution_count": 4,
   "id": "80410d54",
   "metadata": {},
   "outputs": [],
   "source": [
    "# mask manually\n",
    "binary = np.zeros([height, width, 1], 'uint8')\n",
    "thresh = 85\n",
    "\n",
    "for row in range(0, height):\n",
    "    for col in range(0, width):\n",
    "        if bw[row][col] > thresh:\n",
    "            binary[row][col] = 255\n",
    "            \n",
    "cv2.imshow(\"masked\", binary)"
   ]
  },
  {
   "cell_type": "code",
   "execution_count": 5,
   "id": "6cb3f011",
   "metadata": {},
   "outputs": [],
   "source": [
    "# using the threshold method\n",
    "ret, thresh = cv2.threshold(bw, thresh, 255, cv2.THRESH_BINARY)\n",
    "cv2.imshow(\"masked using cv2\", thresh)"
   ]
  },
  {
   "cell_type": "code",
   "execution_count": 6,
   "id": "dc4d2687",
   "metadata": {},
   "outputs": [],
   "source": [
    "# clean up\n",
    "cv2.waitKey(0)\n",
    "cv2.destroyAllWindows()"
   ]
  },
  {
   "cell_type": "code",
   "execution_count": null,
   "id": "c31c6771",
   "metadata": {},
   "outputs": [],
   "source": []
  }
 ],
 "metadata": {
  "kernelspec": {
   "display_name": "Python 3 (ipykernel)",
   "language": "python",
   "name": "python3"
  },
  "language_info": {
   "codemirror_mode": {
    "name": "ipython",
    "version": 3
   },
   "file_extension": ".py",
   "mimetype": "text/x-python",
   "name": "python",
   "nbconvert_exporter": "python",
   "pygments_lexer": "ipython3",
   "version": "3.8.6"
  }
 },
 "nbformat": 4,
 "nbformat_minor": 5
}
